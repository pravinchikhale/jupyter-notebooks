{
  "nbformat": 4,
  "nbformat_minor": 0,
  "metadata": {
    "colab": {
      "name": "rasa_action_server.ipynb",
      "version": "0.3.2",
      "provenance": [],
      "collapsed_sections": []
    },
    "kernelspec": {
      "name": "python3",
      "display_name": "Python 3"
    }
  },
  "cells": [
    {
      "metadata": {
        "id": "1WL3sj4wzgm9",
        "colab_type": "code",
        "colab": {
          "base_uri": "https://localhost:8080/",
          "height": 479
        },
        "outputId": "d6828d3f-35a4-46dc-e0de-bdc20b1bcc99"
      },
      "cell_type": "code",
      "source": [
        "%matplotlib inline\n",
        "\n",
        "import logging, io, json, warnings\n",
        "logging.basicConfig(level=\"INFO\")\n",
        "warnings.filterwarnings('ignore')\n",
        "\n",
        "def pprint(o):\n",
        "    # small helper to make dict dumps a bit prettier\n",
        "    print(json.dumps(o, indent=2))\n",
        "    \n",
        "import sys\n",
        "python = sys.executable\n",
        "\n",
        "# In your environment run:\n",
        "!{python} -m pip install -U rasa-core-sdk~=0.11.0\n",
        "!{python} -m pip install sklearn_crfsuite;"
      ],
      "execution_count": 1,
      "outputs": [
        {
          "output_type": "stream",
          "text": [
            "Requirement already up-to-date: rasa-core-sdk~=0.11.0 in /usr/local/lib/python3.6/dist-packages (0.11.5)\n",
            "Requirement already satisfied, skipping upgrade: future~=0.16 in /usr/local/lib/python3.6/dist-packages (from rasa-core-sdk~=0.11.0) (0.16.0)\n",
            "Requirement already satisfied, skipping upgrade: flask-cors~=3.0 in /usr/local/lib/python3.6/dist-packages (from rasa-core-sdk~=0.11.0) (3.0.7)\n",
            "Requirement already satisfied, skipping upgrade: coloredlogs~=10.0 in /usr/local/lib/python3.6/dist-packages (from rasa-core-sdk~=0.11.0) (10.0)\n",
            "Requirement already satisfied, skipping upgrade: typing~=3.0 in /usr/local/lib/python3.6/dist-packages (from rasa-core-sdk~=0.11.0) (3.6.6)\n",
            "Requirement already satisfied, skipping upgrade: six~=1.11 in /usr/local/lib/python3.6/dist-packages (from rasa-core-sdk~=0.11.0) (1.11.0)\n",
            "Requirement already satisfied, skipping upgrade: ConfigArgParse~=0.13.0 in /usr/local/lib/python3.6/dist-packages (from rasa-core-sdk~=0.11.0) (0.13.0)\n",
            "Requirement already satisfied, skipping upgrade: flask~=1.0 in /usr/local/lib/python3.6/dist-packages (from rasa-core-sdk~=0.11.0) (1.0.2)\n",
            "Requirement already satisfied, skipping upgrade: requests~=2.15 in /usr/local/lib/python3.6/dist-packages (from rasa-core-sdk~=0.11.0) (2.18.4)\n",
            "Requirement already satisfied, skipping upgrade: gevent~=1.2 in /usr/local/lib/python3.6/dist-packages (from rasa-core-sdk~=0.11.0) (1.4.0)\n",
            "Requirement already satisfied, skipping upgrade: humanfriendly>=4.7 in /usr/local/lib/python3.6/dist-packages (from coloredlogs~=10.0->rasa-core-sdk~=0.11.0) (4.18)\n",
            "Requirement already satisfied, skipping upgrade: Jinja2>=2.10 in /usr/local/lib/python3.6/dist-packages (from flask~=1.0->rasa-core-sdk~=0.11.0) (2.10)\n",
            "Requirement already satisfied, skipping upgrade: click>=5.1 in /usr/local/lib/python3.6/dist-packages (from flask~=1.0->rasa-core-sdk~=0.11.0) (7.0)\n",
            "Requirement already satisfied, skipping upgrade: itsdangerous>=0.24 in /usr/local/lib/python3.6/dist-packages (from flask~=1.0->rasa-core-sdk~=0.11.0) (1.1.0)\n",
            "Requirement already satisfied, skipping upgrade: Werkzeug>=0.14 in /usr/local/lib/python3.6/dist-packages (from flask~=1.0->rasa-core-sdk~=0.11.0) (0.14.1)\n",
            "Requirement already satisfied, skipping upgrade: certifi>=2017.4.17 in /usr/local/lib/python3.6/dist-packages (from requests~=2.15->rasa-core-sdk~=0.11.0) (2018.11.29)\n",
            "Requirement already satisfied, skipping upgrade: chardet<3.1.0,>=3.0.2 in /usr/local/lib/python3.6/dist-packages (from requests~=2.15->rasa-core-sdk~=0.11.0) (3.0.4)\n",
            "Requirement already satisfied, skipping upgrade: idna<2.7,>=2.5 in /usr/local/lib/python3.6/dist-packages (from requests~=2.15->rasa-core-sdk~=0.11.0) (2.6)\n",
            "Requirement already satisfied, skipping upgrade: urllib3<1.23,>=1.21.1 in /usr/local/lib/python3.6/dist-packages (from requests~=2.15->rasa-core-sdk~=0.11.0) (1.22)\n",
            "Requirement already satisfied, skipping upgrade: greenlet>=0.4.14; platform_python_implementation == \"CPython\" in /usr/local/lib/python3.6/dist-packages (from gevent~=1.2->rasa-core-sdk~=0.11.0) (0.4.15)\n",
            "Requirement already satisfied, skipping upgrade: MarkupSafe>=0.23 in /usr/local/lib/python3.6/dist-packages (from Jinja2>=2.10->flask~=1.0->rasa-core-sdk~=0.11.0) (1.1.0)\n",
            "Requirement already satisfied: sklearn_crfsuite in /usr/local/lib/python3.6/dist-packages (0.3.6)\n",
            "Requirement already satisfied: six in /usr/local/lib/python3.6/dist-packages (from sklearn_crfsuite) (1.11.0)\n",
            "Requirement already satisfied: python-crfsuite>=0.8.3 in /usr/local/lib/python3.6/dist-packages (from sklearn_crfsuite) (0.9.6)\n",
            "Requirement already satisfied: tqdm>=2.0 in /usr/local/lib/python3.6/dist-packages (from sklearn_crfsuite) (4.28.1)\n",
            "Requirement already satisfied: tabulate in /usr/local/lib/python3.6/dist-packages (from sklearn_crfsuite) (0.8.3)\n"
          ],
          "name": "stdout"
        }
      ]
    },
    {
      "metadata": {
        "id": "atm67eKd194X",
        "colab_type": "code",
        "colab": {
          "base_uri": "https://localhost:8080/",
          "height": 34
        },
        "outputId": "0f484d58-cfbf-47c3-dbc8-b462b056cb46"
      },
      "cell_type": "code",
      "source": [
        "custom_action = \"\"\"\n",
        "\n",
        "from rasa_core_sdk import Action\n",
        "from rasa_core_sdk.events import SlotSet\n",
        "\n",
        "import requests\n",
        "\n",
        "class ApiAction(Action):\n",
        "    def name(self):\n",
        "        return \"action_paper_search\"\n",
        "\n",
        "    def run(self, dispatcher, tracker, domain):\n",
        "\n",
        "        paper_type = tracker.get_slot('paper_type')\n",
        "        title = \"Thats great paper!\"\n",
        "        link = \"https://i.chzbgr.com/full/9097238272/h3EBA2E25/\"\n",
        "        authors = \"pravin\"\n",
        "        dispatcher.utter_message(\"I found a paper called {}\".format(title))\n",
        "        return [SlotSet(\"link\",link), SlotSet(\"authors\",authors)]\n",
        "        \n",
        "\"\"\"\n",
        "%store custom_action > actions.py"
      ],
      "execution_count": 4,
      "outputs": [
        {
          "output_type": "stream",
          "text": [
            "Writing 'custom_action' (str) to file 'actions.py'.\n"
          ],
          "name": "stdout"
        }
      ]
    },
    {
      "metadata": {
        "id": "rcZlSL5N1_jc",
        "colab_type": "code",
        "colab": {
          "base_uri": "https://localhost:8080/",
          "height": 476
        },
        "outputId": "8e605fb4-cad5-4f4e-e405-c6b0b8f76a7a"
      },
      "cell_type": "code",
      "source": [
        "!{python} -m rasa_core_sdk.endpoint --actions actions"
      ],
      "execution_count": 5,
      "outputs": [
        {
          "output_type": "stream",
          "text": [
            "INFO:__main__:Starting action endpoint server...\n",
            "INFO:rasa_core_sdk.executor:Registered function for 'action_paper_search'.\n",
            "INFO:__main__:Action endpoint is up and running. on ('0.0.0.0', 5055)\n",
            "DEBUG:rasa_core_sdk.executor:Received request to run 'action_paper_search'\n",
            "DEBUG:rasa_core_sdk.executor:Successfully ran 'action_paper_search'\n",
            "127.0.0.1 - - [2019-02-24 05:00:39] \"POST /webhook HTTP/1.1\" 200 395 0.001935\n",
            "KeyboardInterrupt\n",
            "2019-02-24T05:01:34Z\n",
            "Traceback (most recent call last):\n",
            "  File \"/usr/lib/python3.6/runpy.py\", line 193, in _run_module_as_main\n",
            "    \"__main__\", mod_spec)\n",
            "  File \"/usr/lib/python3.6/runpy.py\", line 85, in _run_code\n",
            "    exec(code, run_globals)\n",
            "  File \"/usr/local/lib/python3.6/dist-packages/rasa_core_sdk/endpoint.py\", line 97, in <module>\n",
            "    http_server.serve_forever()\n",
            "  File \"/usr/local/lib/python3.6/dist-packages/gevent/baseserver.py\", line 369, in serve_forever\n",
            "    self._stop_event.wait()\n",
            "  File \"src/gevent/event.py\", line 127, in gevent._event.Event.wait\n",
            "  File \"src/gevent/_abstract_linkable.py\", line 192, in gevent.__abstract_linkable.AbstractLinkable._wait\n",
            "  File \"src/gevent/_abstract_linkable.py\", line 165, in gevent.__abstract_linkable.AbstractLinkable._wait_core\n",
            "  File \"src/gevent/_abstract_linkable.py\", line 169, in gevent.__abstract_linkable.AbstractLinkable._wait_core\n",
            "  File \"src/gevent/_greenlet_primitives.py\", line 60, in gevent.__greenlet_primitives.SwitchOutGreenletWithLoop.switch\n",
            "  File \"src/gevent/_greenlet_primitives.py\", line 60, in gevent.__greenlet_primitives.SwitchOutGreenletWithLoop.switch\n",
            "  File \"src/gevent/_greenlet_primitives.py\", line 64, in gevent.__greenlet_primitives.SwitchOutGreenletWithLoop.switch\n",
            "  File \"src/gevent/__greenlet_primitives.pxd\", line 35, in gevent.__greenlet_primitives._greenlet_switch\n",
            "KeyboardInterrupt\n",
            "^C\n"
          ],
          "name": "stdout"
        }
      ]
    }
  ]
}